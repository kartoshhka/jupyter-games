{
 "cells": [
  {
   "cell_type": "code",
   "execution_count": 1,
   "metadata": {},
   "outputs": [],
   "source": [
    "from tkinter import *\n",
    "# импортируем библиотеку random\n",
    "import random"
   ]
  },
  {
   "cell_type": "code",
   "execution_count": 2,
   "metadata": {},
   "outputs": [],
   "source": [
    "# Добавляем глобальные переменные\n",
    "\n",
    "# глобальные переменные\n",
    "# настройки окна\n",
    "WIDTH = 900\n",
    "HEIGHT = 300\n",
    " \n",
    "# настройки ракеток\n",
    " \n",
    "# ширина ракетки\n",
    "PAD_W = 10\n",
    "# высота ракетки\n",
    "PAD_H = 100\n",
    " \n",
    "# настройки мяча\n",
    "# Насколько будет увеличиваться скорость мяча с каждым ударом\n",
    "BALL_SPEED_UP = 1.05\n",
    "# Максимальная скорость мяча\n",
    "BALL_MAX_SPEED = 40\n",
    "# радиус мяча\n",
    "BALL_RADIUS = 30\n",
    "\n",
    "INITIAL_SPEED = 20\n",
    "BALL_X_SPEED = INITIAL_SPEED\n",
    "BALL_Y_SPEED = INITIAL_SPEED\n",
    "\n",
    "# Счет игроков\n",
    "PLAYER_1_SCORE = 0\n",
    "PLAYER_2_SCORE = 0\n",
    "\n",
    "# Добавим глобальную переменную отвечающую за расстояние\n",
    "# до правого края игрового поля\n",
    "right_line_distance = WIDTH - PAD_W"
   ]
  },
  {
   "cell_type": "code",
   "execution_count": 3,
   "metadata": {},
   "outputs": [],
   "source": [
    "def update_score(player):\n",
    "    global PLAYER_1_SCORE, PLAYER_2_SCORE\n",
    "    if player == \"right\":\n",
    "        PLAYER_1_SCORE += 1\n",
    "        c.itemconfig(p_1_text, text=PLAYER_1_SCORE)\n",
    "    else:\n",
    "        PLAYER_2_SCORE += 1\n",
    "        c.itemconfig(p_2_text, text=PLAYER_2_SCORE)"
   ]
  },
  {
   "cell_type": "code",
   "execution_count": 4,
   "metadata": {},
   "outputs": [],
   "source": [
    "def spawn_ball():\n",
    "    global BALL_X_SPEED\n",
    "    # Выставляем мяч по центру\n",
    "    c.coords(BALL, WIDTH/2-BALL_RADIUS/2,\n",
    "             HEIGHT/2-BALL_RADIUS/2,\n",
    "             WIDTH/2+BALL_RADIUS/2,\n",
    "             HEIGHT/2+BALL_RADIUS/2)\n",
    "    # Задаем мячу направление в сторону проигравшего игрока,\n",
    "    # но снижаем скорость до изначальной\n",
    "    BALL_X_SPEED = -(BALL_X_SPEED * -INITIAL_SPEED) / abs(BALL_X_SPEED)"
   ]
  },
  {
   "cell_type": "code",
   "execution_count": 5,
   "metadata": {},
   "outputs": [],
   "source": [
    "# функция отскока мяча\n",
    "def bounce(action):\n",
    "    global BALL_X_SPEED, BALL_Y_SPEED\n",
    "    # ударили ракеткой\n",
    "    if action == \"strike\":\n",
    "        BALL_Y_SPEED = random.randrange(-10, 10)\n",
    "        if abs(BALL_X_SPEED) < BALL_MAX_SPEED:\n",
    "            BALL_X_SPEED *= -BALL_SPEED_UP\n",
    "        else:\n",
    "            BALL_X_SPEED = -BALL_X_SPEED\n",
    "    else:\n",
    "        BALL_Y_SPEED = -BALL_Y_SPEED\n"
   ]
  },
  {
   "cell_type": "code",
   "execution_count": 6,
   "metadata": {},
   "outputs": [],
   "source": [
    "# устанавливаем окно\n",
    "root = Tk()\n",
    "root.title(\"Pong\")\n",
    " \n",
    "# область анимации\n",
    "c = Canvas(root, width=WIDTH, height=HEIGHT, background=\"#003300\")\n",
    "c.pack()"
   ]
  },
  {
   "cell_type": "code",
   "execution_count": 7,
   "metadata": {},
   "outputs": [
    {
     "data": {
      "text/plain": [
       "3"
      ]
     },
     "execution_count": 7,
     "metadata": {},
     "output_type": "execute_result"
    }
   ],
   "source": [
    "# элементы игрового поля\n",
    " \n",
    "# левая линия\n",
    "c.create_line(PAD_W, 0, PAD_W, HEIGHT, fill=\"white\")\n",
    "# правая линия\n",
    "c.create_line(WIDTH-PAD_W, 0, WIDTH-PAD_W, HEIGHT, fill=\"white\")\n",
    "# центральная линия\n",
    "c.create_line(WIDTH/2, 0, WIDTH/2, HEIGHT, fill=\"white\")"
   ]
  },
  {
   "cell_type": "code",
   "execution_count": 8,
   "metadata": {},
   "outputs": [],
   "source": [
    "# установка игровых объектов\n",
    " \n",
    "# создаем мяч\n",
    "BALL = c.create_oval(WIDTH/2-BALL_RADIUS/2,\n",
    "                     HEIGHT/2-BALL_RADIUS/2,\n",
    "                     WIDTH/2+BALL_RADIUS/2,\n",
    "                     HEIGHT/2+BALL_RADIUS/2, fill=\"white\")\n",
    " \n",
    "# левая ракетка\n",
    "LEFT_PAD = c.create_line(PAD_W/2, 0, PAD_W/2, PAD_H, width=PAD_W, fill=\"yellow\")\n",
    " \n",
    "# правая ракетка\n",
    "RIGHT_PAD = c.create_line(WIDTH-PAD_W/2, 0, WIDTH-PAD_W/2, \n",
    "                          PAD_H, width=PAD_W, fill=\"yellow\")\n",
    "\n",
    "\n",
    "p_1_text = c.create_text(WIDTH-WIDTH/6, PAD_H/4,\n",
    "                         text=PLAYER_1_SCORE,\n",
    "                         font=\"Arial 20\",\n",
    "                         fill=\"white\")\n",
    " \n",
    "p_2_text = c.create_text(WIDTH/6, PAD_H/4,\n",
    "                          text=PLAYER_2_SCORE,\n",
    "                          font=\"Arial 20\",\n",
    "                          fill=\"white\")"
   ]
  },
  {
   "cell_type": "code",
   "execution_count": 9,
   "metadata": {},
   "outputs": [],
   "source": [
    "# добавим глобальные переменные для скорости движения мяча\n",
    "# по горизонтали\n",
    "BALL_X_CHANGE = 20\n",
    "# по вертикали\n",
    "BALL_Y_CHANGE = 0\n"
   ]
  },
  {
   "cell_type": "code",
   "execution_count": 10,
   "metadata": {},
   "outputs": [],
   "source": [
    "def move_ball():\n",
    "    # определяем координаты сторон мяча и его центра\n",
    "    ball_left, ball_top, ball_right, ball_bot = c.coords(BALL)\n",
    "    ball_center = (ball_top + ball_bot) / 2\n",
    " \n",
    "    # вертикальный отскок\n",
    "    # Если мы далеко от вертикальных линий - просто двигаем мяч\n",
    "    if ball_right + BALL_X_SPEED < right_line_distance and \\\n",
    "            ball_left + BALL_X_SPEED > PAD_W:\n",
    "        c.move(BALL, BALL_X_SPEED, BALL_Y_SPEED)\n",
    "    # Если мяч касается своей правой или левой стороной границы поля\n",
    "    elif ball_right == right_line_distance or ball_left == PAD_W:\n",
    "        # Проверяем правой или левой стороны мы касаемся\n",
    "        if ball_right > WIDTH / 2:\n",
    "            # Если правой, то сравниваем позицию центра мяча\n",
    "            # с позицией правой ракетки.\n",
    "            # И если мяч в пределах ракетки делаем отскок\n",
    "            if c.coords(RIGHT_PAD)[1] < ball_center < c.coords(RIGHT_PAD)[3]:\n",
    "                bounce(\"strike\")\n",
    "            else:\n",
    "                # Иначе игрок пропустил - тут оставим пока pass, его мы заменим на подсчет очков и респаун мячика\n",
    "                update_score(\"left\")\n",
    "                spawn_ball()\n",
    "        else:\n",
    "            # То же самое для левого игрока\n",
    "            if c.coords(LEFT_PAD)[1] < ball_center < c.coords(LEFT_PAD)[3]:\n",
    "                bounce(\"strike\")\n",
    "            else:\n",
    "                update_score(\"right\")\n",
    "                spawn_ball()\n",
    "    # Проверка ситуации, в которой мячик может вылететь за границы игрового поля.\n",
    "    # В таком случае просто двигаем его к границе поля.\n",
    "    else:\n",
    "        if ball_right > WIDTH / 2:\n",
    "            c.move(BALL, right_line_distance-ball_right, BALL_Y_SPEED)\n",
    "        else:\n",
    "            c.move(BALL, -ball_left+PAD_W, BALL_Y_SPEED)\n",
    "    # горизонтальный отскок\n",
    "    if ball_top + BALL_Y_SPEED < 0 or ball_bot + BALL_Y_SPEED > HEIGHT:\n",
    "        bounce(\"ricochet\")"
   ]
  },
  {
   "cell_type": "code",
   "execution_count": 11,
   "metadata": {},
   "outputs": [],
   "source": [
    "# зададим глобальные переменные скорости движения ракеток\n",
    "# скорось с которой будут ездить ракетки\n",
    "PAD_SPEED = 20\n",
    "# скорость левой платформы\n",
    "LEFT_PAD_SPEED = 0\n",
    "# скорость правой ракетки\n",
    "RIGHT_PAD_SPEED = 0\n"
   ]
  },
  {
   "cell_type": "code",
   "execution_count": 12,
   "metadata": {},
   "outputs": [],
   "source": [
    "# функция движения обеих ракеток\n",
    "def move_pads():\n",
    "    # для удобства создадим словарь, где ракетке соответствует ее скорость\n",
    "    PADS = {LEFT_PAD: LEFT_PAD_SPEED, \n",
    "            RIGHT_PAD: RIGHT_PAD_SPEED}\n",
    "    # перебираем ракетки\n",
    "    for pad in PADS:\n",
    "        # двигаем ракетку с заданной скоростью\n",
    "        c.move(pad, 0, PADS[pad])\n",
    "        # если ракетка вылезает за игровое поле возвращаем ее на место\n",
    "        if c.coords(pad)[1] < 0:\n",
    "            c.move(pad, 0, -c.coords(pad)[1])\n",
    "        elif c.coords(pad)[3] > HEIGHT:\n",
    "            c.move(pad, 0, HEIGHT - c.coords(pad)[3])"
   ]
  },
  {
   "cell_type": "code",
   "execution_count": 13,
   "metadata": {},
   "outputs": [],
   "source": [
    "def main():\n",
    "    move_ball()\n",
    "    move_pads()\n",
    "    # вызываем саму себя каждые 30 миллисекунд\n",
    "    root.after(30, main)"
   ]
  },
  {
   "cell_type": "code",
   "execution_count": 14,
   "metadata": {},
   "outputs": [],
   "source": [
    "# Установим фокус на Canvas чтобы он реагировал на нажатия клавиш\n",
    "c.focus_set()"
   ]
  },
  {
   "cell_type": "code",
   "execution_count": 15,
   "metadata": {},
   "outputs": [],
   "source": [
    "# Напишем функцию обработки нажатия клавиш\n",
    "def movement_handler(event):\n",
    "    global LEFT_PAD_SPEED, RIGHT_PAD_SPEED\n",
    "    if event.keysym == \"w\":\n",
    "        LEFT_PAD_SPEED = -PAD_SPEED\n",
    "    elif event.keysym == \"s\":\n",
    "        LEFT_PAD_SPEED = PAD_SPEED\n",
    "    elif event.keysym == \"Up\":\n",
    "        RIGHT_PAD_SPEED = -PAD_SPEED\n",
    "    elif event.keysym == \"Down\":\n",
    "        RIGHT_PAD_SPEED = PAD_SPEED"
   ]
  },
  {
   "cell_type": "code",
   "execution_count": 16,
   "metadata": {},
   "outputs": [
    {
     "data": {
      "text/plain": [
       "'139678264281032movement_handler'"
      ]
     },
     "execution_count": 16,
     "metadata": {},
     "output_type": "execute_result"
    }
   ],
   "source": [
    "# Привяжем к Canvas эту функцию\n",
    "c.bind(\"<KeyPress>\", movement_handler)"
   ]
  },
  {
   "cell_type": "code",
   "execution_count": 17,
   "metadata": {},
   "outputs": [],
   "source": [
    "# Создадим функцию реагирования на отпускание клавиши\n",
    "def stop_pad(event):\n",
    "    global LEFT_PAD_SPEED, RIGHT_PAD_SPEED\n",
    "    if event.keysym in \"ws\":\n",
    "        LEFT_PAD_SPEED = 0\n",
    "    elif event.keysym in (\"Up\", \"Down\"):\n",
    "        RIGHT_PAD_SPEED = 0"
   ]
  },
  {
   "cell_type": "code",
   "execution_count": 18,
   "metadata": {},
   "outputs": [
    {
     "data": {
      "text/plain": [
       "'139678264278920stop_pad'"
      ]
     },
     "execution_count": 18,
     "metadata": {},
     "output_type": "execute_result"
    }
   ],
   "source": [
    "# Привяжем к Canvas эту функцию\n",
    "c.bind(\"<KeyRelease>\", stop_pad)"
   ]
  },
  {
   "cell_type": "code",
   "execution_count": 19,
   "metadata": {},
   "outputs": [],
   "source": [
    "# запускаем движение\n",
    "main()"
   ]
  },
  {
   "cell_type": "code",
   "execution_count": 20,
   "metadata": {},
   "outputs": [],
   "source": [
    "# запускаем работу окна\n",
    "root.mainloop()"
   ]
  },
  {
   "cell_type": "code",
   "execution_count": null,
   "metadata": {},
   "outputs": [],
   "source": []
  }
 ],
 "metadata": {
  "kernelspec": {
   "display_name": "Python 3",
   "language": "python",
   "name": "python3"
  },
  "language_info": {
   "codemirror_mode": {
    "name": "ipython",
    "version": 3
   },
   "file_extension": ".py",
   "mimetype": "text/x-python",
   "name": "python",
   "nbconvert_exporter": "python",
   "pygments_lexer": "ipython3",
   "version": "3.5.2"
  }
 },
 "nbformat": 4,
 "nbformat_minor": 2
}
