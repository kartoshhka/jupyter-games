{
 "cells": [
  {
   "cell_type": "code",
   "execution_count": 1,
   "metadata": {},
   "outputs": [],
   "source": [
    "from tkinter import *\n",
    "import random"
   ]
  },
  {
   "cell_type": "code",
   "execution_count": 2,
   "metadata": {},
   "outputs": [],
   "source": [
    "GRID_SIZE = 20 #  Размер поля\n",
    "SQUARE_SIZE = 20 # Размер клетки\n",
    "MINES_NUM = 40 # Количество мин на поле\n",
    "mines = set(random.sample(range(1, GRID_SIZE**2+1), MINES_NUM)) # Устанавливаем случайным образом мины на поле\n",
    "clicked = set() # Сет, хранящий все клетки, по которым мы кликнули"
   ]
  },
  {
   "cell_type": "code",
   "execution_count": 3,
   "metadata": {},
   "outputs": [],
   "source": [
    "def check_mines(neighbors):\n",
    "    \"\"\" Функция, возвращающая количество мин вокруг neighbors \"\"\"\n",
    "    return len(mines.intersection(neighbors))"
   ]
  },
  {
   "cell_type": "code",
   "execution_count": 4,
   "metadata": {},
   "outputs": [],
   "source": [
    "def generate_neighbors(square):\n",
    "    \"\"\" Возвращает клетки соседствующие с square \"\"\"\n",
    "    # Левая верхняя клетка\n",
    "    if square == 1:\n",
    "        data = {GRID_SIZE + 1, 2, GRID_SIZE + 2}\n",
    "    # Правая нижняя \n",
    "    elif square == GRID_SIZE ** 2:\n",
    "        data = {square - GRID_SIZE, square - 1, square - GRID_SIZE - 1}\n",
    "    # Левая нижняя\n",
    "    elif square == GRID_SIZE:\n",
    "        data = {GRID_SIZE - 1, GRID_SIZE * 2, GRID_SIZE * 2 - 1}\n",
    "    # Верхняя правая\n",
    "    elif square == GRID_SIZE ** 2 - GRID_SIZE + 1:\n",
    "        data = {square + 1, square - GRID_SIZE, square - GRID_SIZE + 1}\n",
    "    # Клетка в левом ряду\n",
    "    elif square < GRID_SIZE:\n",
    "        data = {square + 1, square - 1, square + GRID_SIZE,\n",
    "                square + GRID_SIZE - 1, square + GRID_SIZE + 1}\n",
    "    # Клетка в правом ряду\n",
    "    elif square > GRID_SIZE ** 2 - GRID_SIZE:\n",
    "        data = {square + 1, square - 1, square - GRID_SIZE,\n",
    "                square - GRID_SIZE - 1, square - GRID_SIZE + 1}\n",
    "    # Клетка в нижнем ряду\n",
    "    elif square % GRID_SIZE == 0:\n",
    "        data = {square + GRID_SIZE, square - GRID_SIZE, square - 1,\n",
    "                square + GRID_SIZE - 1, square - GRID_SIZE - 1}\n",
    "    # Клетка в верхнем ряду\n",
    "    elif square % GRID_SIZE == 1:\n",
    "        data = {square + GRID_SIZE, square - GRID_SIZE, square + 1,\n",
    "                square + GRID_SIZE + 1, square - GRID_SIZE + 1}\n",
    "    # Любая другая клетка\n",
    "    else:\n",
    "        data = {square - 1, square + 1, square - GRID_SIZE, square + GRID_SIZE,\n",
    "                square - GRID_SIZE - 1, square - GRID_SIZE + 1,\n",
    "                square + GRID_SIZE + 1, square + GRID_SIZE - 1}\n",
    "    return data"
   ]
  },
  {
   "cell_type": "code",
   "execution_count": 5,
   "metadata": {},
   "outputs": [],
   "source": [
    "def clearance(ids):\n",
    "    \"\"\" Итеративная (эффективная) функция очистки поля \"\"\"\n",
    "    clicked.add(ids) # добавляем нажатую клетку в сет нажатых\n",
    "    ids_neigh = generate_neighbors(ids) # Получаем все соседние клетки\n",
    "    around = check_mines(ids_neigh) # высчитываем количество мин вокруг нажатой клетки\n",
    "    c.itemconfig(ids, fill=\"green\") # окрашиваем клетку в зеленый\n",
    "\n",
    "    # Если вокруг мин нету\n",
    "    if around == 0:\n",
    "        # Создаем список соседних клеток\n",
    "        neigh_list = list(ids_neigh)\n",
    "        # Пока в списке соседей есть клетки\n",
    "        while len(neigh_list) > 0:\n",
    "            # Получаем клетку\n",
    "            item = neigh_list.pop()\n",
    "            # Окрашиваем ее в зеленый цвет\n",
    "            c.itemconfig(item, fill=\"green\")\n",
    "            # Получаем соседение клетки данной клетки\n",
    "            item_neigh = generate_neighbors(item)\n",
    "            # Получаем количество мин в соседних клетках\n",
    "            item_around = check_mines(item_neigh)\n",
    "            # Если в соседних клетках есть мины\n",
    "            if item_around > 0:\n",
    "                # Делаем эту проверку, чтобы писать по нескольку раз на той же клетке\n",
    "                if item not in clicked:\n",
    "                    # Получаем координаты этой клетки\n",
    "                    x1, y1, x2, y2 = c.coords(item)\n",
    "                    # Пишем на клетке количество мин вокруг\n",
    "                    c.create_text(x1 + SQUARE_SIZE / 2,\n",
    "                                  y1 + SQUARE_SIZE / 2,\n",
    "                                  text=str(item_around),\n",
    "                                  font=\"Arial {}\".format(int(SQUARE_SIZE / 2)),\n",
    "                                  fill='yellow')\n",
    "            # Если в соседних клетках мин нету\n",
    "            else:\n",
    "                # Добавляем соседние клетки данной клетки в общий список\n",
    "                neigh_list.extend(set(item_neigh).difference(clicked))\n",
    "                # Убираем повторяющиеся элементы из общего списка\n",
    "                neigh_list = list(set(neigh_list))\n",
    "            # Добавляем клетку в нажатые\n",
    "            clicked.add(item)\n",
    "    # Если мины вокруг есть\n",
    "    else:\n",
    "        # Высчитываем координаты клетки\n",
    "        x1, y1, x2, y2 = c.coords(ids)\n",
    "        # Пишем количество мин вокруг\n",
    "        c.create_text(x1 + SQUARE_SIZE / 2,\n",
    "                      y1 + SQUARE_SIZE / 2,\n",
    "                      text=str(around),\n",
    "                      font=\"Arial {}\".format(int(SQUARE_SIZE / 2)),\n",
    "                      fill='yellow')"
   ]
  },
  {
   "cell_type": "code",
   "execution_count": 6,
   "metadata": {},
   "outputs": [],
   "source": [
    "def rec_clearance(ids):\n",
    "    \"\"\" Рекурсивная (неэффективная) функция очистки поля \"\"\"\n",
    "    clicked.add(ids)\n",
    "    neighbors = generate_neighbors(ids)\n",
    "    around = check_mines(neighbors)\n",
    "    if around:\n",
    "        x1, y1, x2, y2 = c.coords(ids)\n",
    "        c.itemconfig(ids, fill=\"green\")\n",
    "        c.create_text(x1 + SQUARE_SIZE / 2,\n",
    "                      y1 + SQUARE_SIZE / 2,\n",
    "                      text=str(around),\n",
    "                      font=\"Arial {}\".format(int(SQUARE_SIZE / 2)),\n",
    "                      fill='yellow')\n",
    "    else:\n",
    "        for item in set(neighbors).difference(clicked):\n",
    "            c.itemconfig(item, fill=\"green\")\n",
    "            rec_clearance(item)"
   ]
  },
  {
   "cell_type": "code",
   "execution_count": 7,
   "metadata": {},
   "outputs": [],
   "source": [
    "def click(event):\n",
    "    ids = c.find_withtag(CURRENT)[0]\n",
    "    if ids in mines:\n",
    "        c.itemconfig(CURRENT, fill=\"red\")\n",
    "    elif ids not in clicked:\n",
    "        clearance(ids)\n",
    "        c.itemconfig(CURRENT, fill=\"green\")\n",
    "    c.update()"
   ]
  },
  {
   "cell_type": "code",
   "execution_count": 8,
   "metadata": {},
   "outputs": [],
   "source": [
    "def mark_mine(event):\n",
    "    ids = c.find_withtag(CURRENT)[0]\n",
    "    if ids not in clicked:\n",
    "        clicked.add(ids)\n",
    "        x1, y1, x2, y2 = c.coords(ids)\n",
    "        c.itemconfig(CURRENT, fill=\"yellow\")\n",
    "    else:\n",
    "        clicked.remove(ids)\n",
    "        c.itemconfig(CURRENT, fill=\"gray\")"
   ]
  },
  {
   "cell_type": "code",
   "execution_count": 9,
   "metadata": {},
   "outputs": [],
   "source": [
    "root = Tk()\n",
    "root.title(\"Minesweep\")\n",
    "c = Canvas(root, width=GRID_SIZE * SQUARE_SIZE, height=GRID_SIZE * SQUARE_SIZE)\n",
    "c.bind(\"<Button-1>\", click)\n",
    "c.bind(\"<Button-3>\", mark_mine)\n",
    "c.pack()\n",
    "for i in range(GRID_SIZE):\n",
    "    for j in range(GRID_SIZE):\n",
    "      c.create_rectangle(i * SQUARE_SIZE, j * SQUARE_SIZE,\n",
    "                         i * SQUARE_SIZE + SQUARE_SIZE,\n",
    "j * SQUARE_SIZE + SQUARE_SIZE, fill='gray')"
   ]
  },
  {
   "cell_type": "code",
   "execution_count": null,
   "metadata": {},
   "outputs": [],
   "source": [
    "root.mainloop()"
   ]
  },
  {
   "cell_type": "code",
   "execution_count": null,
   "metadata": {},
   "outputs": [],
   "source": []
  }
 ],
 "metadata": {
  "kernelspec": {
   "display_name": "Python 3",
   "language": "python",
   "name": "python3"
  },
  "language_info": {
   "codemirror_mode": {
    "name": "ipython",
    "version": 3
   },
   "file_extension": ".py",
   "mimetype": "text/x-python",
   "name": "python",
   "nbconvert_exporter": "python",
   "pygments_lexer": "ipython3",
   "version": "3.5.2"
  }
 },
 "nbformat": 4,
 "nbformat_minor": 2
}
